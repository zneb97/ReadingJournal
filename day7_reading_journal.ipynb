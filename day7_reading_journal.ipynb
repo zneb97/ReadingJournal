{
 "cells": [
  {
   "cell_type": "markdown",
   "metadata": {},
   "source": [
    "# Day 7 Reading Journal\n",
    "\n",
    "This journal includes several required exercises, but it is meant to encourage active reading more generally.  You should use the journal to take detailed notes, catalog questions, and explore the content from Think Python deeply.\n",
    "\n",
    "Reading: Think Python Chapter 11, 12\n",
    "\n",
    "**Due: Monday, February 13 at 12 noon**\n",
    "\n"
   ]
  },
  {
   "cell_type": "markdown",
   "metadata": {},
   "source": [
    "## [Chapter 11](http://www.greenteapress.com/thinkpython/html/thinkpython012.html)\n"
   ]
  },
  {
   "cell_type": "markdown",
   "metadata": {},
   "source": [
    "**Quick check:** In about one sentence using your own words, what is a dictionary?"
   ]
  },
  {
   "cell_type": "markdown",
   "metadata": {},
   "source": [
    "A list that relates a key word or value to something else i.e. Apple:6, relating the Key Apple to the value 6."
   ]
  },
  {
   "cell_type": "markdown",
   "metadata": {
    "is_question": true,
    "problem": "Exercise 11.2"
   },
   "source": [
    "### Exercise 11.2  \n",
    "\n",
    "Dictionaries have a method called [`get`](https://docs.python.org/3/library/stdtypes.html#mapping-types-dict) that takes a key and a default value. If the key appears in the dictionary, `get` returns the corresponding value; otherwise it returns the default value. For example:\n",
    "\n",
    "```\n",
    ">>> h = histogram('a')\n",
    ">>> print h\n",
    "{'a': 1}\n",
    ">>> h.get('a', 0)\n",
    "1\n",
    ">>> h.get('b', 0)\n",
    "0\n",
    "```\n",
    "\n",
    "Use `get` to write `histogram` more concisely. You should be able to eliminate the `if` statement. Add unit tests for your histogram implementation."
   ]
  },
  {
   "cell_type": "code",
   "execution_count": 56,
   "metadata": {
    "collapsed": false,
    "solution": "Exercise 11.2"
   },
   "outputs": [
    {
     "name": "stdout",
     "output_type": "stream",
     "text": [
      "Finding tests in NoName\n",
      "Trying:\n",
      "    histogram('abcd')\n",
      "Expecting:\n",
      "    {'a': 1, 'b': 1, 'c': 1, 'd': 1}\n",
      "**********************************************************************\n",
      "File \"__main__\", line 3, in NoName\n",
      "Failed example:\n",
      "    histogram('abcd')\n",
      "Expected:\n",
      "    {'a': 1, 'b': 1, 'c': 1, 'd': 1}\n",
      "Got:\n",
      "    {'c': 1, 'd': 1, 'b': 1, 'a': 1}\n"
     ]
    }
   ],
   "source": [
    "def histogram(s):\n",
    "    \"\"\"\n",
    "    >>> histogram('abcd')\n",
    "    {'a': 1, 'b': 1, 'c': 1, 'd': 1}\n",
    "    \"\"\"\n",
    "    d = dict()\n",
    "    for k in s:\n",
    "        d[k] = d.get(k,0)+1\n",
    "    return d\n",
    "\n",
    "import doctest\n",
    "doctest.run_docstring_examples(histogram, globals(), verbose=True)"
   ]
  },
  {
   "cell_type": "markdown",
   "metadata": {},
   "source": [
    " "
   ]
  },
  {
   "cell_type": "markdown",
   "metadata": {
    "is_question": true,
    "problem": "Exercise 11.4"
   },
   "source": [
    "### Exercise 11.4  \n",
    "\n",
    "Modify `reverse_lookup` so that it builds and returns a list of all keys that map to `v`, or an empty list if there are none. Add unit tests for your implementation."
   ]
  },
  {
   "cell_type": "code",
   "execution_count": 45,
   "metadata": {
    "collapsed": false,
    "solution": "Exercise 11.4"
   },
   "outputs": [
    {
     "name": "stdout",
     "output_type": "stream",
     "text": [
      "Finding tests in NoName\n",
      "Trying:\n",
      "    reverse_lookup({1:2,4:5},2)\n",
      "Expecting:\n",
      "    [1]\n",
      "ok\n"
     ]
    }
   ],
   "source": [
    "def reverse_lookup(d, v):\n",
    "    \"\"\"\n",
    "    Returns keys corresponding to the value V\n",
    "    \n",
    "    >>> reverse_lookup({1:2,4:5},2)\n",
    "    [1]\n",
    "    \"\"\"\n",
    "    keys = []\n",
    "    for k in d:\n",
    "        if d[k] == v:\n",
    "            keys.append(k)\n",
    "    return keys\n",
    "    \n",
    "import doctest\n",
    "doctest.run_docstring_examples(reverse_lookup, globals(), verbose=True)"
   ]
  },
  {
   "cell_type": "markdown",
   "metadata": {},
   "source": [
    "If you'd like to learn more about errors and exceptions, you can check out the [Python tutorial](https://docs.python.org/3/tutorial/errors.html) or read ahead to [Appendix A](http://www.greenteapress.com/thinkpython2/html/thinkpython2021.html) of Think Python. If you choose to use doctest for your unit testing, it can also [deal with exceptions](https://docs.python.org/3/library/doctest.html#what-about-exceptions)."
   ]
  },
  {
   "cell_type": "markdown",
   "metadata": {},
   "source": [
    " "
   ]
  },
  {
   "cell_type": "markdown",
   "metadata": {},
   "source": [
    "**Quick check** What type of objects can be used as keys to a dictionary, i.e. what property must they have?"
   ]
  },
  {
   "cell_type": "markdown",
   "metadata": {},
   "source": [
    "Keys must be immutuable, which means lists cannot be keys."
   ]
  },
  {
   "cell_type": "markdown",
   "metadata": {},
   "source": [
    " "
   ]
  },
  {
   "cell_type": "markdown",
   "metadata": {
    "is_question": true,
    "problem": "Exercise 11.6"
   },
   "source": [
    "### Exercise 11.6 (modified)\n",
    "\n",
    "Create a memoized version of your Levenshtein distance function from Day 7. What kind of performance change do you see?\n",
    "\n",
    "Optional: If you'd like to get some quantitative results, you could check out the [timeit](https://docs.python.org/3/library/timeit.html) module\n",
    "\n",
    "Note: You can also study Fibonacci here if you prefer."
   ]
  },
  {
   "cell_type": "code",
   "execution_count": 28,
   "metadata": {
    "collapsed": false,
    "solution": "Exercise 11.6"
   },
   "outputs": [
    {
     "name": "stdout",
     "output_type": "stream",
     "text": [
      "Finding tests in NoName\n",
      "Trying:\n",
      "    fibonacci(9)\n",
      "Expecting:\n",
      "    34\n",
      "ok\n"
     ]
    }
   ],
   "source": [
    "known = {0:0, 1:1}\n",
    "\n",
    "def fibonacci(n):\n",
    "    \"\"\"\n",
    "    >>> fibonacci(9)\n",
    "    34\n",
    "    \"\"\"\n",
    "    if n in known:\n",
    "        return known[n]\n",
    "    \n",
    "    res = fibonacci(n-1) + fibonacci(n-2)\n",
    "    known[n] = res\n",
    "    return res  \n",
    "\n",
    "\n",
    "\n",
    "import doctest\n",
    "doctest.run_docstring_examples(fibonacci, globals(), verbose=True)"
   ]
  },
  {
   "cell_type": "markdown",
   "metadata": {},
   "source": [
    "On the way back from the last recusion it does not have to recompute everything"
   ]
  },
  {
   "cell_type": "markdown",
   "metadata": {},
   "source": [
    " "
   ]
  },
  {
   "cell_type": "markdown",
   "metadata": {},
   "source": [
    "## [Chapter 12](http://www.greenteapress.com/thinkpython2/html/thinkpython2013.html)\n",
    "\n",
    "**Quick check:** In about one sentence using your own words, what is a tuple?"
   ]
  },
  {
   "cell_type": "markdown",
   "metadata": {},
   "source": [
    "A tuple is a set of values."
   ]
  },
  {
   "cell_type": "markdown",
   "metadata": {},
   "source": [
    " "
   ]
  },
  {
   "cell_type": "markdown",
   "metadata": {
    "is_question": true,
    "problem": "Exercise 12.1"
   },
   "source": [
    "### Chapter 12.4  \n",
    "\n",
    "Many of the built-in functions use variable-length argument tuples. For example, `max` and `min` can take any number of arguments:\n",
    "\n",
    "```\n",
    ">>> max(1,2,3)\n",
    "3\n",
    "```\n",
    "\n",
    "But `sum` does not.\n",
    "\n",
    "```\n",
    ">>> sum(1,2,3)\n",
    "TypeError: sum expected at most 2 arguments, got 3\n",
    "```\n",
    "\n",
    "Write a function called ```sumall``` that takes any number of arguments and returns their sum. \n",
    "\n",
    "Write unit tests for your function. Do I actually need to keep saying this? Let's assume it's always a good idea :)"
   ]
  },
  {
   "cell_type": "code",
   "execution_count": 25,
   "metadata": {
    "collapsed": false,
    "solution": "Exercise 12.1"
   },
   "outputs": [
    {
     "name": "stdout",
     "output_type": "stream",
     "text": [
      "Finding tests in NoName\n",
      "Trying:\n",
      "    sumall(1,2,3)\n",
      "Expecting:\n",
      "    6\n",
      "ok\n"
     ]
    }
   ],
   "source": [
    "def sumall(*items):\n",
    "    \"\"\"\n",
    "    >>> sumall(1,2,3)\n",
    "    6\n",
    "    \"\"\"\n",
    "    sum = 0\n",
    "    items = tuple(items)\n",
    "    for i in items:\n",
    "        sum += i\n",
    "    return sum\n",
    "\n",
    "\n",
    "import doctest\n",
    "doctest.run_docstring_examples(sumall, globals(), verbose=True)"
   ]
  },
  {
   "cell_type": "markdown",
   "metadata": {},
   "source": [
    "If you're interested in more flexible ways to pass arguments to functions, check out the [Python tutorial](https://docs.python.org/3/tutorial/controlflow.html#more-on-defining-functions). For instance, you can also use keyword arguments, which are collected into a dictionary just like `*` gathers variable numbers of positional arguments into a tuple.\n",
    "\n",
    "This pattern is very common for defining functions with complex optional behaviors in Python, and you will often see definitions like:\n",
    "\n",
    "```\n",
    "def my_func(required_argument1, *arguments, **keywords):\n",
    "    ...\n",
    "```"
   ]
  },
  {
   "cell_type": "markdown",
   "metadata": {},
   "source": [
    " "
   ]
  },
  {
   "cell_type": "markdown",
   "metadata": {
    "is_question": true,
    "problem": "Exercise 12 sort"
   },
   "source": [
    "### Exercise\n",
    "\n",
    "Write a function `sort_by_last_letter` that takes a list of words and returns a new list with the words sorted alphabetically by the _last letter_ in the word. Hint: use the **Decorate, Sort, Undecorate** pattern. Write unit tests for your function."
   ]
  },
  {
   "cell_type": "code",
   "execution_count": 6,
   "metadata": {
    "collapsed": false,
    "solution": "Exercise 12 sort"
   },
   "outputs": [
    {
     "name": "stdout",
     "output_type": "stream",
     "text": [
      "Finding tests in NoName\n",
      "Trying:\n",
      "    sort_by_last_letter([\"test\",\"runner\",\"racecar\"])\n",
      "Expecting:\n",
      "    ['racecar', 'runner', 'test']\n",
      "ok\n"
     ]
    }
   ],
   "source": [
    "def sort_by_last_letter(items):\n",
    "    \"\"\"\n",
    "    Sorts alphabetical by last letter\n",
    "    >>> sort_by_last_letter([\"test\",\"runner\",\"racecar\"])\n",
    "    ['racecar', 'runner', 'test']\n",
    "    \"\"\"\n",
    "    #Reverse all elements\n",
    "    for i in range(len(items)):\n",
    "        items[i] = items[i][::-1]\n",
    "    #Sort alphabetically\n",
    "    items.sort()\n",
    "    #Undo the reverse\n",
    "    for i in range(len(items)):\n",
    "        items[i] = items[i][::-1]\n",
    "    return items\n",
    "\n",
    "import doctest\n",
    "doctest.run_docstring_examples(sort_by_last_letter, globals(), verbose=True)"
   ]
  },
  {
   "cell_type": "markdown",
   "metadata": {},
   "source": [
    " "
   ]
  },
  {
   "cell_type": "markdown",
   "metadata": {},
   "source": [
    "**Quick check** Give an example of when you might use each sequence type:\n",
    "\n",
    "- tuple\n",
    "\n",
    "- list\n",
    "\n",
    "- string"
   ]
  },
  {
   "cell_type": "markdown",
   "metadata": {},
   "source": [
    "Tuple: Storing coordinates\n",
    "List: Storing elemnts whose order may need to be quickly changed or manipulated - alphabetical list\n",
    "String: Storing a user's input"
   ]
  },
  {
   "cell_type": "markdown",
   "metadata": {},
   "source": [
    " "
   ]
  },
  {
   "cell_type": "markdown",
   "metadata": {
    "is_question": true,
    "problem": "Exercise 12.3"
   },
   "source": [
    "### Exercise 12.1 \n",
    "\n",
    "Write a function called `most_frequent` that takes a string and prints the letters in decreasing order of frequency. Find text samples from several different languages and see how letter frequency varies between languages. Compare your results with the tables at http://en.wikipedia.org/wiki/Letter_frequencies. \n",
    "\n",
    "Allen's solution (try it on your own first): http://greenteapress.com/thinkpython2/code/most_frequent.py. "
   ]
  },
  {
   "cell_type": "code",
   "execution_count": 31,
   "metadata": {
    "collapsed": false,
    "solution": "Exercise 12.3"
   },
   "outputs": [
    {
     "name": "stdout",
     "output_type": "stream",
     "text": [
      "Finding tests in NoName\n",
      "Trying:\n",
      "    most_frequent(\"aaaaabbbbcccdde\")\n",
      "Expecting:\n",
      "    e\n",
      "    d\n",
      "    c\n",
      "    b\n",
      "    a\n",
      "ok\n"
     ]
    }
   ],
   "source": [
    "def most_frequent(phrase):\n",
    "    \"\"\"\n",
    "    Returns frequnecy of characters in decreasing order of frequency\n",
    "    >>> most_frequent(\"aaaaabbbbcccdde\")\n",
    "    e\n",
    "    d\n",
    "    c\n",
    "    b\n",
    "    a\n",
    "    \"\"\"\n",
    "    #Break into characters\n",
    "    phrase = phrase.lower()\n",
    "    tp = tuple(phrase)\n",
    "    dic = dict()\n",
    "    pairs = []\n",
    "    \n",
    "    #Assign frequency to characters\n",
    "    for c in tp:\n",
    "        dic[c] = dic.get(c,0)+1\n",
    "  \n",
    "    #Send frequencies to a list\n",
    "    for q in dic:\n",
    "        pairs.append((dic[q], q))\n",
    "    pairs.sort()\n",
    "    for t in range(len(pairs)):\n",
    "        print((pairs[t])[1])\n",
    "\n",
    "import doctest\n",
    "doctest.run_docstring_examples(most_frequent, globals(), verbose=True)"
   ]
  },
  {
   "cell_type": "markdown",
   "metadata": {},
   "source": [
    " "
   ]
  },
  {
   "cell_type": "markdown",
   "metadata": {
    "is_question": true,
    "problem": "Exercise 12.6"
   },
   "source": [
    "### Challenge: Exercise 12.4   (optional)\n",
    "\n",
    "From a [Car Talk Puzzler](http://www.cartalk.com/content/puzzlers):\n",
    "\n",
    "What is the longest English word, that remains a valid English word, as you remove its letters one at a time?\n",
    "\n",
    "Now, letters can be removed from either end, or the middle, but you can’t rearrange any of the letters. Every time you drop a letter, you wind up with another English word. If you do that, you’re eventually going to wind up with one letter and that too is going to be an English word—one that’s found in the dictionary. I want to know what’s the longest word and how many letters does it have?\n",
    "\n",
    "I’m going to give you a little modest example: Sprite. Ok? You start off with sprite, you take a letter off, one from the interior of the word, take the r away, and we’re left with the word spite, then we take the e off the end, we’re left with spit, we take the s off, we’re left with pit, it, and I. \n",
    "\n",
    "Write a program to find all words that can be reduced in this way, and then find the longest one.\n",
    "\n",
    "This exercise is a little more challenging than most, so here are some suggestions:\n",
    "\n",
    "- You might want to write a function that takes a word and computes a list of all the words that can be formed by removing one letter. These are the “children” of the word.\n",
    "- Recursively, a word is reducible if any of its children are reducible. As a base case, you can consider the empty string reducible.\n",
    "- The word list from [Chapter 9.1](http://www.greenteapress.com/thinkpython2/html/thinkpython2010.html) Exercise 1 doesn’t contain single letter words. So you might want to add “I”, “a”, and the empty string.\n",
    "- To improve the performance of your program, you might want to memoize the words that are known to be reducible.\n",
    "\n",
    "Allen's solution: http://greenteapress.com/thinkpython2/code/reducible.py."
   ]
  },
  {
   "cell_type": "code",
   "execution_count": null,
   "metadata": {
    "collapsed": true,
    "solution": "Exercise 12.6"
   },
   "outputs": [],
   "source": []
  },
  {
   "cell_type": "markdown",
   "metadata": {},
   "source": [
    " "
   ]
  },
  {
   "cell_type": "markdown",
   "metadata": {
    "is_question": true,
    "problem": "Feedback"
   },
   "source": [
    "## Reading Journal feedback\n",
    "\n",
    "[Please complete this short survey](https://docs.google.com/forms/d/e/1FAIpQLScQekhUrf6YYjpfQiAAbavLIA-IJklv_PX1BWbGgxj7JPolmw/viewform?c=0&w=1)\n",
    "\n",
    "If you have any comments on this Reading Journal, feel free to leave them in the survey linked above. This could include suggestions to improve the exercises, topics you'd like to see covered in class next time, or other feedback.\n",
    "\n",
    "If you have Python questions or run into problems while completing the reading, you should post them to Piazza instead so you can get a quick response before your journal is submitted."
   ]
  },
  {
   "cell_type": "markdown",
   "metadata": {
    "feedback_response": true,
    "solution": "Feedback"
   },
   "source": [
    " "
   ]
  }
 ],
 "metadata": {
  "kernelspec": {
   "display_name": "Python 3",
   "language": "python",
   "name": "python3"
  },
  "language_info": {
   "codemirror_mode": {
    "name": "ipython",
    "version": 3
   },
   "file_extension": ".py",
   "mimetype": "text/x-python",
   "name": "python",
   "nbconvert_exporter": "python",
   "pygments_lexer": "ipython3",
   "version": "3.4.3"
  }
 },
 "nbformat": 4,
 "nbformat_minor": 0
}
