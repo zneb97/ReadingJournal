{
 "cells": [
  {
   "cell_type": "markdown",
   "metadata": {},
   "source": [
    "# Day 5 Reading Journal\n",
    "\n",
    "This journal includes several required exercises, but it is meant to encourage active reading more generally.  You should use the journal to take detailed notes, catalog questions, and explore the content from Think Python deeply.\n",
    "\n",
    "Reading: Think Python Chapter 4\n",
    "\n",
    "**Due: Thursday, February 2 at 12 noon**\n",
    "\n"
   ]
  },
  {
   "cell_type": "markdown",
   "metadata": {},
   "source": [
    "## [Chapter 4](http://www.greenteapress.com/thinkpython2/html/thinkpython2005.html)\n",
    "\n",
    "In today's reading, you will be exploring the turtle module, which allows you to create images using turtle graphics. The turtle module is included in most Python installations, and you did a quick test with it during the Get Set assignment.\n",
    "\n",
    "### Turtle wrangling\n",
    "\n",
    "You can always run your code as separate Python scripts, but here are a few tips for mixing Turtle with Jupyter notebook:\n",
    "\n",
    " - Turtle will appear in a new GUI window, rather than inline in the notebook like typical results do\n",
    " - You will not be able to close the Turtle window unless you run `turtle.mainloop()` as the last line of your code."
   ]
  },
  {
   "cell_type": "markdown",
   "metadata": {},
   "source": [
    "### Get started\n",
    "\n",
    "Run the code in the cell below and make sure everything works. You should see brave Bob spring into the world and run forward. You can close the window when you're done by clicking on the 'X'. If this simple test doesn't work, check your Python3 install (especially if you get an `ImportError`) and ask for help."
   ]
  },
  {
   "cell_type": "code",
   "execution_count": 2,
   "metadata": {
    "collapsed": false
   },
   "outputs": [],
   "source": [
    "import turtle\n",
    "\n",
    "# Create the world, and a turtle to put in it\n",
    "bob = turtle.Turtle()\n",
    "\n",
    "# Get moving, turtle!\n",
    "bob.fd(100)\n",
    "\n",
    "# Wait for the user to close the window\n",
    "turtle.mainloop()"
   ]
  },
  {
   "cell_type": "markdown",
   "metadata": {
    "is_question": true,
    "problem": "Section 4.3"
   },
   "source": [
    "### Chapter 4.3\n",
    "Work through exercises 1-5 in Chapter 4.3, creating the `square`, `polygon`, `circle`, and `arc` functions. You can reference Allen's solutions, but please try the problems on your own first."
   ]
  },
  {
   "cell_type": "code",
   "execution_count": 5,
   "metadata": {
    "collapsed": false,
    "solution": "Section 4.3"
   },
   "outputs": [],
   "source": [
    "#Exercise 1,2\n",
    "import turtle\n",
    "def square(t, length):\n",
    "    \"\"\"\n",
    "    Makes the given turtle turn in square with given side lengths\n",
    "    \"\"\"\n",
    "    for i in range(4):\n",
    "        t.fd(length)\n",
    "        t.lt(90)\n",
    "        \n",
    "bob = turtle.Turtle()\n",
    "square(bob, 400)\n",
    "turtle.mainloop()"
   ]
  },
  {
   "cell_type": "code",
   "execution_count": 1,
   "metadata": {
    "collapsed": false
   },
   "outputs": [],
   "source": [
    "#Exercise 3\n",
    "import turtle\n",
    "def polygon(t, length, n):\n",
    "    \"\"\"\n",
    "    Makes the turtle move in a polygon with n sides of the given length\n",
    "    \"\"\"\n",
    "    for i in range(n):\n",
    "        t.fd(length)\n",
    "        t.lt(360/n)\n",
    "        \n",
    "bob = turtle.Turtle()\n",
    "polygon(bob, 400,3)\n",
    "turtle.mainloop()"
   ]
  },
  {
   "cell_type": "code",
   "execution_count": 4,
   "metadata": {
    "collapsed": false
   },
   "outputs": [],
   "source": [
    "#Exercise 4\n",
    "import turtle\n",
    "import math\n",
    "def circle(t, radius):\n",
    "    \"\"\"\n",
    "    Makes the turtle move in a circle with given radius\n",
    "    \"\"\"\n",
    "    for i in range(360):\n",
    "        t.fd(2*math.pi*radius/360.0)\n",
    "        t.lt(1)\n",
    "        \n",
    "bob = turtle.Turtle()\n",
    "circle(bob, 250)\n",
    "turtle.mainloop()"
   ]
  },
  {
   "cell_type": "code",
   "execution_count": 6,
   "metadata": {
    "collapsed": false
   },
   "outputs": [],
   "source": [
    "import turtle\n",
    "import math\n",
    "def arc(t, radius, angle):\n",
    "    \"\"\"\n",
    "    Moves turtle in arc with given radius through the given angle\n",
    "    \"\"\"\n",
    "    for i in range(angle):\n",
    "        t.fd(2*math.pi*radius/360.0)\n",
    "        t.lt(1)\n",
    "    \n",
    "bob = turtle.Turtle()\n",
    "arc(bob, 50,180)\n",
    "turtle.mainloop()"
   ]
  },
  {
   "cell_type": "markdown",
   "metadata": {
    "is_question": true,
    "problem": "More fun"
   },
   "source": [
    "### Chapter 4.12\n",
    "#### More fun with Turtles!\n",
    "Complete at least one of Exercise 2, 3, 4, or 5. If you come up with some cool drawings you'd like to share with the rest of the class, let us know!"
   ]
  },
  {
   "cell_type": "code",
   "execution_count": null,
   "metadata": {
    "collapsed": false,
    "solution": "More fun"
   },
   "outputs": [],
   "source": [
    "import turtle\n",
    "import math\n",
    "\n",
    "def arc(t, radius, angle):\n",
    "    \"\"\"\n",
    "    Moves turtle in arc with given radius through the given angle\n",
    "    \"\"\"\n",
    "    for i in range(angle):\n",
    "        t.fd(2*math.pi*radius/360.0)\n",
    "        t.lt(1)\n",
    "        \n",
    "def flower(t, radius, angle, petals):\n",
    "    \"\"\"\n",
    "    Draws a multipetal flower with petals number of petals\n",
    "    \"\"\"\n",
    "    for i in range(petals):\n",
    "        #Turns around to finish petal\n",
    "        for j in range(2):\n",
    "            #Creates half the petal\n",
    "            arc(t, radius, angle)\n",
    "            #Petal can't be more than a full circle\n",
    "            t.lt(180-angle)\n",
    "        t.lt(360.0/petals)\n",
    "\n",
    "bob = turtle.Turtle()\n",
    "flower(bob, 50, 100,60)\n",
    "turtle.mainloop()\n",
    "\n",
    "#Large number of petals looks really cool but takes a really long time"
   ]
  },
  {
   "cell_type": "markdown",
   "metadata": {},
   "source": [
    "## Reading Journal feedback\n",
    "\n",
    "[Please complete this short survey](https://docs.google.com/forms/d/e/1FAIpQLScQekhUrf6YYjpfQiAAbavLIA-IJklv_PX1BWbGgxj7JPolmw/viewform?c=0&w=1)\n",
    "\n",
    "If you have any comments on this Reading Journal, feel free to leave them in the survey linked above. This could include suggestions to improve the exercises, topics you'd like to see covered in class next time, or other feedback.\n",
    "\n",
    "If you have Python questions or run into problems while completing the reading, you should post them to Piazza instead so you can get a quick response before your journal is submitted."
   ]
  },
  {
   "cell_type": "markdown",
   "metadata": {},
   "source": [
    "While it is definitely good to know the basics and practice thinking through the steps of how go about approaching a problem, this seemed a little odd coming right after our first major project. "
   ]
  }
 ],
 "metadata": {
  "kernelspec": {
   "display_name": "Python 3",
   "language": "python",
   "name": "python3"
  },
  "language_info": {
   "codemirror_mode": {
    "name": "ipython",
    "version": 3
   },
   "file_extension": ".py",
   "mimetype": "text/x-python",
   "name": "python",
   "nbconvert_exporter": "python",
   "pygments_lexer": "ipython3",
   "version": "3.4.3"
  }
 },
 "nbformat": 4,
 "nbformat_minor": 0
}
